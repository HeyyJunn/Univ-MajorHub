{
 "cells": [
  {
   "cell_type": "code",
   "execution_count": null,
   "id": "db84f3c0-9205-44c5-993f-1384a5f2d621",
   "metadata": {},
   "outputs": [],
   "source": [
    "temp = 0\n",
    "for i in range(1,11):\n",
    "    x = input(\"input integer\")\n",
    "    print(x)\n",
    "    temp += x\n",
    "print(temp)"
   ]
  },
  {
   "cell_type": "code",
   "execution_count": null,
   "id": "c407c2e1-c3e1-462b-8cae-87d9e404bda9",
   "metadata": {},
   "outputs": [],
   "source": []
  }
 ],
 "metadata": {
  "kernelspec": {
   "display_name": "Python 3 (ipykernel)",
   "language": "python",
   "name": "python3"
  },
  "language_info": {
   "codemirror_mode": {
    "name": "ipython",
    "version": 3
   },
   "file_extension": ".py",
   "mimetype": "text/x-python",
   "name": "python",
   "nbconvert_exporter": "python",
   "pygments_lexer": "ipython3",
   "version": "3.12.7"
  }
 },
 "nbformat": 4,
 "nbformat_minor": 5
}
