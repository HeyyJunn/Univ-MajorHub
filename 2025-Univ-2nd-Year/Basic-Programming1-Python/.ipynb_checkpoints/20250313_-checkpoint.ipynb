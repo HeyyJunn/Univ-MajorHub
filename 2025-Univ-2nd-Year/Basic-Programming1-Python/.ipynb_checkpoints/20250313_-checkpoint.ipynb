{
 "cells": [
  {
   "cell_type": "code",
   "execution_count": 14,
   "id": "0f8e6abb-d53e-4901-a87c-ee4f1b272313",
   "metadata": {},
   "outputs": [
    {
     "name": "stdin",
     "output_type": "stream",
     "text": [
      "Input your number  3\n"
     ]
    },
    {
     "name": "stdout",
     "output_type": "stream",
     "text": [
      "4\n"
     ]
    }
   ],
   "source": [
    "# hw : \n",
    "# how to -> algorithm\n",
    "myNum = int(input(\"Input your number \"))\n",
    "myNum += 1\n",
    "# input 은 이미 제u공하는 function\n",
    "print (myNum)\n",
    "# unary + 'str'\n",
    "\n",
    "\n"
   ]
  },
  {
   "cell_type": "code",
   "execution_count": null,
   "id": "b018fcac-0529-4aa1-9005-7004cad3a689",
   "metadata": {},
   "outputs": [],
   "source": [
    "ㅁㄹㄴㅇ\n"
   ]
  }
 ],
 "metadata": {
  "kernelspec": {
   "display_name": "Python 3 (ipykernel)",
   "language": "python",
   "name": "python3"
  },
  "language_info": {
   "codemirror_mode": {
    "name": "ipython",
    "version": 3
   },
   "file_extension": ".py",
   "mimetype": "text/x-python",
   "name": "python",
   "nbconvert_exporter": "python",
   "pygments_lexer": "ipython3",
   "version": "3.12.7"
  }
 },
 "nbformat": 4,
 "nbformat_minor": 5
}
