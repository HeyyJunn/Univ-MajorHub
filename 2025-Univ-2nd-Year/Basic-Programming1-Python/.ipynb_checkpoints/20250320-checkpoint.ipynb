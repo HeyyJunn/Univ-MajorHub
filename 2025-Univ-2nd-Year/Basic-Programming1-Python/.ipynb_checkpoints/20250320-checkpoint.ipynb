{
 "cells": [
  {
   "cell_type": "code",
   "execution_count": 3,
   "id": "cb6c8b99-fed9-42f6-a303-0b7cc0d1873e",
   "metadata": {},
   "outputs": [
    {
     "name": "stdout",
     "output_type": "stream",
     "text": [
      "a= 20\n"
     ]
    }
   ],
   "source": [
    "a = 20\n",
    "\n",
    "if a == 20:\n",
    "    print(\"a= 20\")\n",
    "else:\n",
    "    print(\"a != 20\")"
   ]
  },
  {
   "cell_type": "code",
   "execution_count": null,
   "id": "e37bc27e-9e99-4917-9fa6-37ef43e144f5",
   "metadata": {},
   "outputs": [],
   "source": [
    "i = 5\n",
    "\n",
    "while i > 3:\n",
    "    print(\"i = \", i)\n",
    "    i = i -1\n",
    "            "
   ]
  },
  {
   "cell_type": "code",
   "execution_count": 2,
   "id": "e26ca8b8-5d37-48be-ac50-c6da04193eb4",
   "metadata": {},
   "outputs": [
    {
     "name": "stdout",
     "output_type": "stream",
     "text": [
      "2000.0\n",
      "inf\n",
      "-inf\n",
      "True\n",
      "True\n",
      "False\n"
     ]
    }
   ],
   "source": [
    "print(2e3) \n",
    "print(float(\"inf\"))\n",
    "print(float(\"-inf\")) \n",
    "\n",
    "a = None \n",
    "print(a is None) #true\n",
    "\n",
    "print(bool(-1)) #true \n",
    "print(bool(0)) #false"
   ]
  },
  {
   "cell_type": "code",
   "execution_count": 11,
   "id": "c0a47240-183e-4bb1-b948-a90077014389",
   "metadata": {},
   "outputs": [
    {
     "name": "stdin",
     "output_type": "stream",
     "text": [
      " 3\n",
      " 2\n",
      " 1\n"
     ]
    },
    {
     "name": "stdout",
     "output_type": "stream",
     "text": [
      "6\n"
     ]
    }
   ],
   "source": [
    "sum = 0\n",
    "for i in range (3):\n",
    "    x = int(input())\n",
    "    sum += x\n",
    "print(sum)"
   ]
  },
  {
   "cell_type": "code",
   "execution_count": null,
   "id": "74b1dca7-8837-49be-b624-b3c722cfbfe9",
   "metadata": {},
   "outputs": [],
   "source": []
  }
 ],
 "metadata": {
  "kernelspec": {
   "display_name": "Python 3 (ipykernel)",
   "language": "python",
   "name": "python3"
  },
  "language_info": {
   "codemirror_mode": {
    "name": "ipython",
    "version": 3
   },
   "file_extension": ".py",
   "mimetype": "text/x-python",
   "name": "python",
   "nbconvert_exporter": "python",
   "pygments_lexer": "ipython3",
   "version": "3.12.7"
  }
 },
 "nbformat": 4,
 "nbformat_minor": 5
}
