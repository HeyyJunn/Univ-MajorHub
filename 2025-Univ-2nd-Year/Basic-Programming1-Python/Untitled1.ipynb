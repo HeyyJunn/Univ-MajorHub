{
 "cells": [
  {
   "cell_type": "code",
   "execution_count": null,
   "id": "f596e3b6-5fdb-4136-8ea8-e50b97dea69a",
   "metadata": {},
   "outputs": [],
   "source": [
    "j =3 \n",
    "print(j)"
   ]
  }
 ],
 "metadata": {
  "kernelspec": {
   "display_name": "Python 3 (ipykernel)",
   "language": "python",
   "name": "python3"
  },
  "language_info": {
   "codemirror_mode": {
    "name": "ipython",
    "version": 3
   },
   "file_extension": ".py",
   "mimetype": "text/x-python",
   "name": "python",
   "nbconvert_exporter": "python",
   "pygments_lexer": "ipython3",
   "version": "3.12.7"
  }
 },
 "nbformat": 4,
 "nbformat_minor": 5
}
